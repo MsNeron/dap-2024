{
  "nbformat": 4,
  "nbformat_minor": 0,
  "metadata": {
    "colab": {
      "provenance": [],
      "authorship_tag": "ABX9TyOGGFABVmsKk7CYBp8pYNh4",
      "include_colab_link": true
    },
    "kernelspec": {
      "name": "python3",
      "display_name": "Python 3"
    },
    "language_info": {
      "name": "python"
    }
  },
  "cells": [
    {
      "cell_type": "markdown",
      "metadata": {
        "id": "view-in-github",
        "colab_type": "text"
      },
      "source": [
        "<a href=\"https://colab.research.google.com/github/MsNeron/dap-2024/blob/main/les01/rep.ipyng.ipynb\" target=\"_parent\"><img src=\"https://colab.research.google.com/assets/colab-badge.svg\" alt=\"Open In Colab\"/></a>"
      ]
    },
    {
      "cell_type": "code",
      "execution_count": null,
      "metadata": {
        "id": "9MaK2-3oN1cW"
      },
      "outputs": [],
      "source": []
    },
    {
      "cell_type": "markdown",
      "source": [
        "# Лабораторная работа № 1"
      ],
      "metadata": {
        "id": "uCogST7kN4Yz"
      }
    },
    {
      "cell_type": "markdown",
      "source": [
        "**БЕЛГОРОДСКИЙ ГОСУДАРСТВЕННЫЙ НАЦИОНАЛЬНЫЙ ИССЛЕДОВАТЕЛЬСКИЙ УНИВЕРСИТЕТ» (НИУ«БелГУ»)**\n",
        "\n",
        "## ИНСТИТУТ ИНЖЕНЕРНЫХ И ЦИФРОВЫХ ТЕХНОЛОГИЙ\n",
        "### Кафедра информационных и робототехнических систем\n",
        "\n",
        "# **Отчет по дисциплине «Анализ данных на Python»**\n",
        "### специальности 09.03.02 «Информационные системы и технологии»\n",
        "# **Лабораторная работа №1:**\n",
        "### **Подготовка среды для анализа данных**\n",
        "\n",
        "### **Выполнил:**\n",
        "### студент очной формы обучения\n",
        "### группы 12002208\n",
        "### Неронов Даниил Игоревич\n",
        "\n",
        "### **Проверил:**\n",
        "### Чеботарев Сергей Александрович\n"
      ],
      "metadata": {
        "id": "xUTWbMQoOTEj"
      }
    },
    {
      "cell_type": "markdown",
      "source": [
        "# **Лабораторная работа №1. Подготовка среды для анализа данных**"
      ],
      "metadata": {
        "id": "brPolDCyTMyL"
      }
    },
    {
      "cell_type": "markdown",
      "source": [
        "**Цель работы:** научиться использовать GitHub и Google Colab для создания отчетов, а также Markdown разметку для написания отчетов."
      ],
      "metadata": {
        "id": "o6c0ygiZTaF0"
      }
    },
    {
      "cell_type": "markdown",
      "source": [
        "# **Порядок выполения работы:**"
      ],
      "metadata": {
        "id": "_msWVvCEUSTS"
      }
    },
    {
      "cell_type": "markdown",
      "source": [
        "## 1. Создана [учетная запись](https://github.com/MsNeron) в сервисе GitHub . Выполнен форк репозитория https://github.com/chebotarevsa/dap-2024\n",
        "\n",
        "\n",
        "\n",
        "\n",
        "# 2. Создана учетная запись в Google Colab. Настроена интеграция Google Colab и GitHub\n",
        "\n"
      ],
      "metadata": {
        "id": "1s-0k7wPUYDg"
      }
    }
  ]
}